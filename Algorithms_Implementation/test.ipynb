{
 "cells": [
  {
   "cell_type": "code",
   "execution_count": 1,
   "metadata": {},
   "outputs": [],
   "source": [
    "import numpy as np"
   ]
  },
  {
   "cell_type": "code",
   "execution_count": 2,
   "metadata": {},
   "outputs": [],
   "source": [
    "m, n, data, desired_outputs = 0, 0, [], []\n",
    "with open('creditcard1.csv') as f:\n",
    "    while True:\n",
    "        inp = f.readline().strip()\n",
    "        if inp is '': \n",
    "            break\n",
    "        inp = inp.split(',')\n",
    "        m, n = m+1, len(inp)\n",
    "        for i in range(0, n): \n",
    "            inp[i] = float(inp[i])\n",
    "        desired_outputs.append(inp[n-1])\n",
    "        inp[n-1] = 1\n",
    "        data.append(inp)"
   ]
  },
  {
   "cell_type": "code",
   "execution_count": 3,
   "metadata": {},
   "outputs": [],
   "source": [
    "weights=[]\n",
    "with open('final_weights.txt') as f:\n",
    "    weights = f.readline().strip().split(',')\n",
    "    for i in range(0, n): \n",
    "        weights[i] = float(weights[i])"
   ]
  },
  {
   "cell_type": "code",
   "execution_count": 4,
   "metadata": {},
   "outputs": [],
   "source": [
    "train, test, no_of_correct_predictions = 600, 536, 0"
   ]
  },
  {
   "cell_type": "code",
   "execution_count": 5,
   "metadata": {},
   "outputs": [],
   "source": [
    "def signum(some_output):\n",
    "    if some_output > 0: \n",
    "        return 1\n",
    "    else: \n",
    "        return 0"
   ]
  },
  {
   "cell_type": "code",
   "execution_count": 6,
   "metadata": {},
   "outputs": [],
   "source": [
    "for i in range(train, train+test):\n",
    "    net = np.matmul(weights, np.transpose(data[i]))\n",
    "    actual_output = signum(net)\n",
    "    if actual_output == desired_outputs[i]:\n",
    "        no_of_correct_predictions += 1"
   ]
  },
  {
   "cell_type": "code",
   "execution_count": 7,
   "metadata": {},
   "outputs": [
    {
     "name": "stdout",
     "output_type": "stream",
     "text": [
      "Total Correct: 527\n"
     ]
    }
   ],
   "source": [
    "print(\"Total Correct: \"+str(no_of_correct_predictions))"
   ]
  },
  {
   "cell_type": "code",
   "execution_count": 8,
   "metadata": {},
   "outputs": [
    {
     "name": "stdout",
     "output_type": "stream",
     "text": [
      "Accuracy: 98.32089552238806%\n"
     ]
    }
   ],
   "source": [
    "accuracy = float(no_of_correct_predictions/test * 100)\n",
    "print(\"Accuracy: {0}%\".format(accuracy))"
   ]
  },
  {
   "cell_type": "code",
   "execution_count": null,
   "metadata": {},
   "outputs": [],
   "source": []
  }
 ],
 "metadata": {
  "kernelspec": {
   "display_name": "Python 3",
   "language": "python",
   "name": "python3"
  },
  "language_info": {
   "codemirror_mode": {
    "name": "ipython",
    "version": 3
   },
   "file_extension": ".py",
   "mimetype": "text/x-python",
   "name": "python",
   "nbconvert_exporter": "python",
   "pygments_lexer": "ipython3",
   "version": "3.7.6"
  }
 },
 "nbformat": 4,
 "nbformat_minor": 2
}
