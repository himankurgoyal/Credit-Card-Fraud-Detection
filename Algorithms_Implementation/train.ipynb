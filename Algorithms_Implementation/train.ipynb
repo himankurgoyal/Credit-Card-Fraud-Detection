{
 "cells": [
  {
   "cell_type": "code",
   "execution_count": 28,
   "metadata": {},
   "outputs": [],
   "source": [
    "import numpy as np"
   ]
  },
  {
   "cell_type": "code",
   "execution_count": 29,
   "metadata": {},
   "outputs": [],
   "source": [
    "m, n, data, desired_outputs = 0, 0, [], []"
   ]
  },
  {
   "cell_type": "code",
   "execution_count": 31,
   "metadata": {},
   "outputs": [],
   "source": [
    "with open('creditcard1.csv') as f:\n",
    "    while True:\n",
    "        inp = f.readline().strip()\n",
    "        if inp is '': \n",
    "            break\n",
    "        inp = inp.split(',')\n",
    "        m, n = m+1, len(inp)\n",
    "        for i in range(0, n): \n",
    "            inp[i] = float(inp[i])\n",
    "        desired_outputs.append(inp[n-1])\n",
    "        inp[n-1] = 1\n",
    "        data.append(inp)\n"
   ]
  },
  {
   "cell_type": "code",
   "execution_count": 32,
   "metadata": {},
   "outputs": [],
   "source": [
    "train, test, weights, no_of_iterations, c = 600, 536, [], 45, 0.3"
   ]
  },
  {
   "cell_type": "code",
   "execution_count": 33,
   "metadata": {},
   "outputs": [],
   "source": [
    "with open('Init_weights.txt') as f:\n",
    "    weights = f.readline().strip().split(',')\n",
    "    for i in range(0, n): \n",
    "        weights[i] = float(weights[i])"
   ]
  },
  {
   "cell_type": "code",
   "execution_count": 34,
   "metadata": {},
   "outputs": [],
   "source": [
    "def signum(some_output):\n",
    "    if some_output >= 0: \n",
    "        return 1\n",
    "    else: \n",
    "        return 0"
   ]
  },
  {
   "cell_type": "code",
   "execution_count": 35,
   "metadata": {},
   "outputs": [],
   "source": [
    "for j in range(0, no_of_iterations):\n",
    "    for i in range(0, train):\n",
    "        net = np.matmul(weights, np.transpose(data[i]))\n",
    "        actual_output = signum(net)\n",
    "        if(actual_output != desired_outputs[i]):\n",
    "            weights = np.add(weights, np.multiply(float(c*(desired_outputs[i]-actual_output)), data[i]))\n",
    "    c -= 0.01*c"
   ]
  },
  {
   "cell_type": "code",
   "execution_count": 36,
   "metadata": {},
   "outputs": [
    {
     "name": "stdout",
     "output_type": "stream",
     "text": [
      "0.8778718637594809,1.3532143940566188,-2.0679438738813274,0.5653688721225726,0.015359951733450283,-1.2483260672639571,-1.3642890541646469,2.724024649998545,-1.7215402858528166,0.04407312875494507,-1.493779870738337,-3.9928713032251437,0.7643819002076431,1.5401020404457932,-1.5819375259520778,1.600888463753515,2.1831388939627607,1.6065532349733282,-0.8874271232909607,-2.382509007335757,1.241739719523044,0.537983503016944,-1.691919937405082,0.3564353802568025,-3.3585670383941353,2.4015762114622223,-0.9632623328456176,-0.8615105424673895,-11.312858377048833\n"
     ]
    }
   ],
   "source": [
    "for i in range(0, n):\n",
    "    if i<n-1: \n",
    "        print(weights[i],end=',')\n",
    "    else:\n",
    "        print(weights[i])"
   ]
  },
  {
   "cell_type": "code",
   "execution_count": null,
   "metadata": {},
   "outputs": [],
   "source": []
  }
 ],
 "metadata": {
  "kernelspec": {
   "display_name": "Python 3",
   "language": "python",
   "name": "python3"
  },
  "language_info": {
   "codemirror_mode": {
    "name": "ipython",
    "version": 3
   },
   "file_extension": ".py",
   "mimetype": "text/x-python",
   "name": "python",
   "nbconvert_exporter": "python",
   "pygments_lexer": "ipython3",
   "version": "3.7.6"
  }
 },
 "nbformat": 4,
 "nbformat_minor": 2
}
